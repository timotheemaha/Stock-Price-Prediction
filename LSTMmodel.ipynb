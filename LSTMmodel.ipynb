{
 "cells": [
  {
   "cell_type": "code",
   "execution_count": 11,
   "metadata": {},
   "outputs": [],
   "source": [
    "import numpy as np\n",
    "import pandas as pd\n",
    "import matplotlib.pyplot as plt\n",
    "import pandas_datareader as data"
   ]
  },
  {
   "cell_type": "code",
   "execution_count": 19,
   "metadata": {},
   "outputs": [
    {
     "name": "stdout",
     "output_type": "stream",
     "text": [
      "[*********************100%%**********************]  1 of 1 completed\n"
     ]
    },
    {
     "data": {
      "text/html": [
       "<div>\n",
       "<style scoped>\n",
       "    .dataframe tbody tr th:only-of-type {\n",
       "        vertical-align: middle;\n",
       "    }\n",
       "\n",
       "    .dataframe tbody tr th {\n",
       "        vertical-align: top;\n",
       "    }\n",
       "\n",
       "    .dataframe thead th {\n",
       "        text-align: right;\n",
       "    }\n",
       "</style>\n",
       "<table border=\"1\" class=\"dataframe\">\n",
       "  <thead>\n",
       "    <tr style=\"text-align: right;\">\n",
       "      <th></th>\n",
       "      <th>Open</th>\n",
       "      <th>High</th>\n",
       "      <th>Low</th>\n",
       "      <th>Close</th>\n",
       "      <th>Adj Close</th>\n",
       "      <th>Volume</th>\n",
       "    </tr>\n",
       "    <tr>\n",
       "      <th>Date</th>\n",
       "      <th></th>\n",
       "      <th></th>\n",
       "      <th></th>\n",
       "      <th></th>\n",
       "      <th></th>\n",
       "      <th></th>\n",
       "    </tr>\n",
       "  </thead>\n",
       "  <tbody>\n",
       "    <tr>\n",
       "      <th>2010-01-04</th>\n",
       "      <td>7.622500</td>\n",
       "      <td>7.660714</td>\n",
       "      <td>7.585000</td>\n",
       "      <td>7.643214</td>\n",
       "      <td>6.487535</td>\n",
       "      <td>493729600</td>\n",
       "    </tr>\n",
       "    <tr>\n",
       "      <th>2010-01-05</th>\n",
       "      <td>7.664286</td>\n",
       "      <td>7.699643</td>\n",
       "      <td>7.616071</td>\n",
       "      <td>7.656429</td>\n",
       "      <td>6.498749</td>\n",
       "      <td>601904800</td>\n",
       "    </tr>\n",
       "    <tr>\n",
       "      <th>2010-01-06</th>\n",
       "      <td>7.656429</td>\n",
       "      <td>7.686786</td>\n",
       "      <td>7.526786</td>\n",
       "      <td>7.534643</td>\n",
       "      <td>6.395380</td>\n",
       "      <td>552160000</td>\n",
       "    </tr>\n",
       "    <tr>\n",
       "      <th>2010-01-07</th>\n",
       "      <td>7.562500</td>\n",
       "      <td>7.571429</td>\n",
       "      <td>7.466071</td>\n",
       "      <td>7.520714</td>\n",
       "      <td>6.383556</td>\n",
       "      <td>477131200</td>\n",
       "    </tr>\n",
       "    <tr>\n",
       "      <th>2010-01-08</th>\n",
       "      <td>7.510714</td>\n",
       "      <td>7.571429</td>\n",
       "      <td>7.466429</td>\n",
       "      <td>7.570714</td>\n",
       "      <td>6.425997</td>\n",
       "      <td>447610800</td>\n",
       "    </tr>\n",
       "  </tbody>\n",
       "</table>\n",
       "</div>"
      ],
      "text/plain": [
       "                Open      High       Low     Close  Adj Close     Volume\n",
       "Date                                                                    \n",
       "2010-01-04  7.622500  7.660714  7.585000  7.643214   6.487535  493729600\n",
       "2010-01-05  7.664286  7.699643  7.616071  7.656429   6.498749  601904800\n",
       "2010-01-06  7.656429  7.686786  7.526786  7.534643   6.395380  552160000\n",
       "2010-01-07  7.562500  7.571429  7.466071  7.520714   6.383556  477131200\n",
       "2010-01-08  7.510714  7.571429  7.466429  7.570714   6.425997  447610800"
      ]
     },
     "execution_count": 19,
     "metadata": {},
     "output_type": "execute_result"
    }
   ],
   "source": [
    "import yfinance as yf\n",
    "# Define the stock ticker symbol and date range\n",
    "symbol = \"AAPL\"\n",
    "start_date = '2010-01-01'\n",
    "end_date = '2023-09-29'\n",
    "\n",
    "# Scraping the data from yahoo finance data website\n",
    "df = yf.download(symbol, start=start_date, end=end_date)\n",
    "\n",
    "# Display the first few rows of the DataFrame\n",
    "df.head()\n"
   ]
  },
  {
   "cell_type": "code",
   "execution_count": 22,
   "metadata": {},
   "outputs": [
    {
     "data": {
      "text/html": [
       "<div>\n",
       "<style scoped>\n",
       "    .dataframe tbody tr th:only-of-type {\n",
       "        vertical-align: middle;\n",
       "    }\n",
       "\n",
       "    .dataframe tbody tr th {\n",
       "        vertical-align: top;\n",
       "    }\n",
       "\n",
       "    .dataframe thead th {\n",
       "        text-align: right;\n",
       "    }\n",
       "</style>\n",
       "<table border=\"1\" class=\"dataframe\">\n",
       "  <thead>\n",
       "    <tr style=\"text-align: right;\">\n",
       "      <th></th>\n",
       "      <th>Date</th>\n",
       "      <th>Open</th>\n",
       "      <th>High</th>\n",
       "      <th>Low</th>\n",
       "      <th>Close</th>\n",
       "      <th>Adj Close</th>\n",
       "      <th>Volume</th>\n",
       "    </tr>\n",
       "  </thead>\n",
       "  <tbody>\n",
       "    <tr>\n",
       "      <th>3453</th>\n",
       "      <td>2023-09-22</td>\n",
       "      <td>174.669998</td>\n",
       "      <td>177.080002</td>\n",
       "      <td>174.050003</td>\n",
       "      <td>174.789993</td>\n",
       "      <td>174.789993</td>\n",
       "      <td>56663000</td>\n",
       "    </tr>\n",
       "    <tr>\n",
       "      <th>3454</th>\n",
       "      <td>2023-09-25</td>\n",
       "      <td>174.199997</td>\n",
       "      <td>176.970001</td>\n",
       "      <td>174.149994</td>\n",
       "      <td>176.080002</td>\n",
       "      <td>176.080002</td>\n",
       "      <td>46172700</td>\n",
       "    </tr>\n",
       "    <tr>\n",
       "      <th>3455</th>\n",
       "      <td>2023-09-26</td>\n",
       "      <td>174.820007</td>\n",
       "      <td>175.199997</td>\n",
       "      <td>171.660004</td>\n",
       "      <td>171.960007</td>\n",
       "      <td>171.960007</td>\n",
       "      <td>64588900</td>\n",
       "    </tr>\n",
       "    <tr>\n",
       "      <th>3456</th>\n",
       "      <td>2023-09-27</td>\n",
       "      <td>172.619995</td>\n",
       "      <td>173.039993</td>\n",
       "      <td>169.050003</td>\n",
       "      <td>170.429993</td>\n",
       "      <td>170.429993</td>\n",
       "      <td>66921800</td>\n",
       "    </tr>\n",
       "    <tr>\n",
       "      <th>3457</th>\n",
       "      <td>2023-09-28</td>\n",
       "      <td>169.339996</td>\n",
       "      <td>172.029999</td>\n",
       "      <td>167.619995</td>\n",
       "      <td>170.690002</td>\n",
       "      <td>170.690002</td>\n",
       "      <td>56294400</td>\n",
       "    </tr>\n",
       "  </tbody>\n",
       "</table>\n",
       "</div>"
      ],
      "text/plain": [
       "           Date        Open        High         Low       Close   Adj Close  \\\n",
       "3453 2023-09-22  174.669998  177.080002  174.050003  174.789993  174.789993   \n",
       "3454 2023-09-25  174.199997  176.970001  174.149994  176.080002  176.080002   \n",
       "3455 2023-09-26  174.820007  175.199997  171.660004  171.960007  171.960007   \n",
       "3456 2023-09-27  172.619995  173.039993  169.050003  170.429993  170.429993   \n",
       "3457 2023-09-28  169.339996  172.029999  167.619995  170.690002  170.690002   \n",
       "\n",
       "        Volume  \n",
       "3453  56663000  \n",
       "3454  46172700  \n",
       "3455  64588900  \n",
       "3456  66921800  \n",
       "3457  56294400  "
      ]
     },
     "execution_count": 22,
     "metadata": {},
     "output_type": "execute_result"
    }
   ],
   "source": [
    " # getting final few rows of data in the data frame\n",
    "df.tail()"
   ]
  },
  {
   "cell_type": "code",
   "execution_count": 21,
   "metadata": {},
   "outputs": [
    {
     "data": {
      "text/html": [
       "<div>\n",
       "<style scoped>\n",
       "    .dataframe tbody tr th:only-of-type {\n",
       "        vertical-align: middle;\n",
       "    }\n",
       "\n",
       "    .dataframe tbody tr th {\n",
       "        vertical-align: top;\n",
       "    }\n",
       "\n",
       "    .dataframe thead th {\n",
       "        text-align: right;\n",
       "    }\n",
       "</style>\n",
       "<table border=\"1\" class=\"dataframe\">\n",
       "  <thead>\n",
       "    <tr style=\"text-align: right;\">\n",
       "      <th></th>\n",
       "      <th>Date</th>\n",
       "      <th>Open</th>\n",
       "      <th>High</th>\n",
       "      <th>Low</th>\n",
       "      <th>Close</th>\n",
       "      <th>Adj Close</th>\n",
       "      <th>Volume</th>\n",
       "    </tr>\n",
       "  </thead>\n",
       "  <tbody>\n",
       "    <tr>\n",
       "      <th>0</th>\n",
       "      <td>2010-01-04</td>\n",
       "      <td>7.622500</td>\n",
       "      <td>7.660714</td>\n",
       "      <td>7.585000</td>\n",
       "      <td>7.643214</td>\n",
       "      <td>6.487535</td>\n",
       "      <td>493729600</td>\n",
       "    </tr>\n",
       "    <tr>\n",
       "      <th>1</th>\n",
       "      <td>2010-01-05</td>\n",
       "      <td>7.664286</td>\n",
       "      <td>7.699643</td>\n",
       "      <td>7.616071</td>\n",
       "      <td>7.656429</td>\n",
       "      <td>6.498749</td>\n",
       "      <td>601904800</td>\n",
       "    </tr>\n",
       "    <tr>\n",
       "      <th>2</th>\n",
       "      <td>2010-01-06</td>\n",
       "      <td>7.656429</td>\n",
       "      <td>7.686786</td>\n",
       "      <td>7.526786</td>\n",
       "      <td>7.534643</td>\n",
       "      <td>6.395380</td>\n",
       "      <td>552160000</td>\n",
       "    </tr>\n",
       "    <tr>\n",
       "      <th>3</th>\n",
       "      <td>2010-01-07</td>\n",
       "      <td>7.562500</td>\n",
       "      <td>7.571429</td>\n",
       "      <td>7.466071</td>\n",
       "      <td>7.520714</td>\n",
       "      <td>6.383556</td>\n",
       "      <td>477131200</td>\n",
       "    </tr>\n",
       "    <tr>\n",
       "      <th>4</th>\n",
       "      <td>2010-01-08</td>\n",
       "      <td>7.510714</td>\n",
       "      <td>7.571429</td>\n",
       "      <td>7.466429</td>\n",
       "      <td>7.570714</td>\n",
       "      <td>6.425997</td>\n",
       "      <td>447610800</td>\n",
       "    </tr>\n",
       "  </tbody>\n",
       "</table>\n",
       "</div>"
      ],
      "text/plain": [
       "        Date      Open      High       Low     Close  Adj Close     Volume\n",
       "0 2010-01-04  7.622500  7.660714  7.585000  7.643214   6.487535  493729600\n",
       "1 2010-01-05  7.664286  7.699643  7.616071  7.656429   6.498749  601904800\n",
       "2 2010-01-06  7.656429  7.686786  7.526786  7.534643   6.395380  552160000\n",
       "3 2010-01-07  7.562500  7.571429  7.466071  7.520714   6.383556  477131200\n",
       "4 2010-01-08  7.510714  7.571429  7.466429  7.570714   6.425997  447610800"
      ]
     },
     "execution_count": 21,
     "metadata": {},
     "output_type": "execute_result"
    }
   ],
   "source": [
    "df = df.reset_index()\n",
    "df.head()\n"
   ]
  },
  {
   "cell_type": "code",
   "execution_count": 23,
   "metadata": {},
   "outputs": [
    {
     "data": {
      "text/html": [
       "<div>\n",
       "<style scoped>\n",
       "    .dataframe tbody tr th:only-of-type {\n",
       "        vertical-align: middle;\n",
       "    }\n",
       "\n",
       "    .dataframe tbody tr th {\n",
       "        vertical-align: top;\n",
       "    }\n",
       "\n",
       "    .dataframe thead th {\n",
       "        text-align: right;\n",
       "    }\n",
       "</style>\n",
       "<table border=\"1\" class=\"dataframe\">\n",
       "  <thead>\n",
       "    <tr style=\"text-align: right;\">\n",
       "      <th></th>\n",
       "      <th>Open</th>\n",
       "      <th>High</th>\n",
       "      <th>Low</th>\n",
       "      <th>Close</th>\n",
       "      <th>Volume</th>\n",
       "    </tr>\n",
       "  </thead>\n",
       "  <tbody>\n",
       "    <tr>\n",
       "      <th>0</th>\n",
       "      <td>7.622500</td>\n",
       "      <td>7.660714</td>\n",
       "      <td>7.585000</td>\n",
       "      <td>7.643214</td>\n",
       "      <td>493729600</td>\n",
       "    </tr>\n",
       "    <tr>\n",
       "      <th>1</th>\n",
       "      <td>7.664286</td>\n",
       "      <td>7.699643</td>\n",
       "      <td>7.616071</td>\n",
       "      <td>7.656429</td>\n",
       "      <td>601904800</td>\n",
       "    </tr>\n",
       "    <tr>\n",
       "      <th>2</th>\n",
       "      <td>7.656429</td>\n",
       "      <td>7.686786</td>\n",
       "      <td>7.526786</td>\n",
       "      <td>7.534643</td>\n",
       "      <td>552160000</td>\n",
       "    </tr>\n",
       "    <tr>\n",
       "      <th>3</th>\n",
       "      <td>7.562500</td>\n",
       "      <td>7.571429</td>\n",
       "      <td>7.466071</td>\n",
       "      <td>7.520714</td>\n",
       "      <td>477131200</td>\n",
       "    </tr>\n",
       "    <tr>\n",
       "      <th>4</th>\n",
       "      <td>7.510714</td>\n",
       "      <td>7.571429</td>\n",
       "      <td>7.466429</td>\n",
       "      <td>7.570714</td>\n",
       "      <td>447610800</td>\n",
       "    </tr>\n",
       "  </tbody>\n",
       "</table>\n",
       "</div>"
      ],
      "text/plain": [
       "       Open      High       Low     Close     Volume\n",
       "0  7.622500  7.660714  7.585000  7.643214  493729600\n",
       "1  7.664286  7.699643  7.616071  7.656429  601904800\n",
       "2  7.656429  7.686786  7.526786  7.534643  552160000\n",
       "3  7.562500  7.571429  7.466071  7.520714  477131200\n",
       "4  7.510714  7.571429  7.466429  7.570714  447610800"
      ]
     },
     "execution_count": 23,
     "metadata": {},
     "output_type": "execute_result"
    }
   ],
   "source": [
    "# removes the Date and Adj Close columns\n",
    "df = df.drop(['Date', 'Adj Close'], axis = 1)\n",
    "df.head()"
   ]
  },
  {
   "cell_type": "code",
   "execution_count": 24,
   "metadata": {},
   "outputs": [
    {
     "data": {
      "text/plain": [
       "[<matplotlib.lines.Line2D at 0x11e664590>]"
      ]
     },
     "execution_count": 24,
     "metadata": {},
     "output_type": "execute_result"
    },
    {
     "data": {
      "image/png": "[encoded data removed]",
      "text/plain": [
       "<Figure size 640x480 with 1 Axes>"
      ]
     },
     "metadata": {},
     "output_type": "display_data"
    }
   ],
   "source": [
    "plt.plot(df.Close) # see the closing price of Apple stock"
   ]
  },
  {
   "cell_type": "code",
   "execution_count": 25,
   "metadata": {},
   "outputs": [
    {
     "data": {
      "text/plain": [
       "0              NaN\n",
       "1              NaN\n",
       "2              NaN\n",
       "3              NaN\n",
       "4              NaN\n",
       "           ...    \n",
       "3453    181.909000\n",
       "3454    181.984400\n",
       "3455    182.029501\n",
       "3456    182.075901\n",
       "3457    182.047101\n",
       "Name: Close, Length: 3458, dtype: float64"
      ]
     },
     "execution_count": 25,
     "metadata": {},
     "output_type": "execute_result"
    }
   ],
   "source": [
    "# 100 day MA, in the 101 index, finds mean of previous 100 values\n",
    "ma100 = df.Close.rolling(100).mean()\n",
    "# first 100 days wont be displayed since 100 day moving average starts from 101 index as it needs the previous 100 days\n",
    "ma100"
   ]
  },
  {
   "cell_type": "code",
   "execution_count": 26,
   "metadata": {},
   "outputs": [
    {
     "data": {
      "text/plain": [
       "[<matplotlib.lines.Line2D at 0x164f40950>]"
      ]
     },
     "execution_count": 26,
     "metadata": {},
     "output_type": "execute_result"
    },
    {
     "data": {
      "image/png": "[encoded data removed]",
      "text/plain": [
       "<Figure size 1200x600 with 1 Axes>"
      ]
     },
     "metadata": {},
     "output_type": "display_data"
    }
   ],
   "source": [
    "# plot moving average on closing price graph\n",
    "# defining the figure size\n",
    "plt.figure(figsize = (12,6)) \n",
    "# plotting the closing price\n",
    "plt.plot(df.Close) \n",
    "# on top of closing price 100 day moving average is plotted in red\n",
    "plt.plot(ma100, 'r') "
   ]
  },
  {
   "cell_type": "code",
   "execution_count": 27,
   "metadata": {},
   "outputs": [
    {
     "data": {
      "text/plain": [
       "0              NaN\n",
       "1              NaN\n",
       "2              NaN\n",
       "3              NaN\n",
       "4              NaN\n",
       "           ...    \n",
       "3453    181.909000\n",
       "3454    181.984400\n",
       "3455    182.029501\n",
       "3456    182.075901\n",
       "3457    182.047101\n",
       "Name: Close, Length: 3458, dtype: float64"
      ]
     },
     "execution_count": 27,
     "metadata": {},
     "output_type": "execute_result"
    }
   ],
   "source": [
    "# 200 day moving average\n",
    "ma200 = df.Close.rolling(100).mean()\n",
    "ma200 # values start from 201 index\n"
   ]
  },
  {
   "cell_type": "code",
   "execution_count": 32,
   "metadata": {},
   "outputs": [
    {
     "data": {
      "text/plain": [
       "[<matplotlib.lines.Line2D at 0x16540b350>]"
      ]
     },
     "execution_count": 32,
     "metadata": {},
     "output_type": "execute_result"
    },
    {
     "data": {
      "image/png": "[encoded data removed]",
      "text/plain": [
       "<Figure size 1200x600 with 1 Axes>"
      ]
     },
     "metadata": {},
     "output_type": "display_data"
    }
   ],
   "source": [
    "# defining the figure size\n",
    "plt.figure(figsize = (12,6)) \n",
    "# plotting the closing price\n",
    "plt.plot(df.Close) \n",
    "# on top of closing price, 100 day moving average is plotted in red\n",
    "plt.plot(ma100, 'r') \n",
    "# on top plotting 200 day moving average is plotted in green\n",
    "plt.plot(ma200, 'g')\n",
    "\n",
    "\n"
   ]
  },
  {
   "cell_type": "code",
   "execution_count": 33,
   "metadata": {},
   "outputs": [
    {
     "data": {
      "text/plain": [
       "(3458, 5)"
      ]
     },
     "execution_count": 33,
     "metadata": {},
     "output_type": "execute_result"
    }
   ],
   "source": [
    "df.shape #(rows,columns)"
   ]
  },
  {
   "cell_type": "code",
   "execution_count": 35,
   "metadata": {},
   "outputs": [
    {
     "name": "stdout",
     "output_type": "stream",
     "text": [
      "(2420, 1)\n",
      "(1038, 1)\n"
     ]
    }
   ],
   "source": [
    "# splitting data in training and testing\n",
    "# first 70% of data used as training data for the model\n",
    "data_training = pd.DataFrame(df['Close'][0:int(len(df)*0.70)])\n",
    "# last 30% used for testing\n",
    "data_testing = pd.DataFrame(df['Close'][int(len(df)*0.70): int(len(df))])\n",
    "print(data_training.shape)\n",
    "print(data_testing.shape)"
   ]
  },
  {
   "cell_type": "code",
   "execution_count": 36,
   "metadata": {},
   "outputs": [
    {
     "data": {
      "text/html": [
       "<div>\n",
       "<style scoped>\n",
       "    .dataframe tbody tr th:only-of-type {\n",
       "        vertical-align: middle;\n",
       "    }\n",
       "\n",
       "    .dataframe tbody tr th {\n",
       "        vertical-align: top;\n",
       "    }\n",
       "\n",
       "    .dataframe thead th {\n",
       "        text-align: right;\n",
       "    }\n",
       "</style>\n",
       "<table border=\"1\" class=\"dataframe\">\n",
       "  <thead>\n",
       "    <tr style=\"text-align: right;\">\n",
       "      <th></th>\n",
       "      <th>Close</th>\n",
       "    </tr>\n",
       "  </thead>\n",
       "  <tbody>\n",
       "    <tr>\n",
       "      <th>0</th>\n",
       "      <td>7.643214</td>\n",
       "    </tr>\n",
       "    <tr>\n",
       "      <th>1</th>\n",
       "      <td>7.656429</td>\n",
       "    </tr>\n",
       "    <tr>\n",
       "      <th>2</th>\n",
       "      <td>7.534643</td>\n",
       "    </tr>\n",
       "    <tr>\n",
       "      <th>3</th>\n",
       "      <td>7.520714</td>\n",
       "    </tr>\n",
       "    <tr>\n",
       "      <th>4</th>\n",
       "      <td>7.570714</td>\n",
       "    </tr>\n",
       "  </tbody>\n",
       "</table>\n",
       "</div>"
      ],
      "text/plain": [
       "      Close\n",
       "0  7.643214\n",
       "1  7.656429\n",
       "2  7.534643\n",
       "3  7.520714\n",
       "4  7.570714"
      ]
     },
     "execution_count": 36,
     "metadata": {},
     "output_type": "execute_result"
    }
   ],
   "source": [
    "data_training.head()"
   ]
  },
  {
   "cell_type": "code",
   "execution_count": 37,
   "metadata": {},
   "outputs": [
    {
     "data": {
      "text/html": [
       "<div>\n",
       "<style scoped>\n",
       "    .dataframe tbody tr th:only-of-type {\n",
       "        vertical-align: middle;\n",
       "    }\n",
       "\n",
       "    .dataframe tbody tr th {\n",
       "        vertical-align: top;\n",
       "    }\n",
       "\n",
       "    .dataframe thead th {\n",
       "        text-align: right;\n",
       "    }\n",
       "</style>\n",
       "<table border=\"1\" class=\"dataframe\">\n",
       "  <thead>\n",
       "    <tr style=\"text-align: right;\">\n",
       "      <th></th>\n",
       "      <th>Close</th>\n",
       "    </tr>\n",
       "  </thead>\n",
       "  <tbody>\n",
       "    <tr>\n",
       "      <th>2420</th>\n",
       "      <td>50.435001</td>\n",
       "    </tr>\n",
       "    <tr>\n",
       "      <th>2421</th>\n",
       "      <td>51.625000</td>\n",
       "    </tr>\n",
       "    <tr>\n",
       "      <th>2422</th>\n",
       "      <td>52.587502</td>\n",
       "    </tr>\n",
       "    <tr>\n",
       "      <th>2423</th>\n",
       "      <td>52.590000</td>\n",
       "    </tr>\n",
       "    <tr>\n",
       "      <th>2424</th>\n",
       "      <td>53.160000</td>\n",
       "    </tr>\n",
       "  </tbody>\n",
       "</table>\n",
       "</div>"
      ],
      "text/plain": [
       "          Close\n",
       "2420  50.435001\n",
       "2421  51.625000\n",
       "2422  52.587502\n",
       "2423  52.590000\n",
       "2424  53.160000"
      ]
     },
     "execution_count": 37,
     "metadata": {},
     "output_type": "execute_result"
    }
   ],
   "source": [
    "data_testing.head()"
   ]
  },
  {
   "cell_type": "code",
   "execution_count": 41,
   "metadata": {},
   "outputs": [],
   "source": [
    "from sklearn.preprocessing import MinMaxScaler\n",
    "# scaled down training data using MinMaxScaler for the LSTM model\n",
    "scaler = MinMaxScaler(feature_range=(0,1))"
   ]
  },
  {
   "cell_type": "code",
   "execution_count": 42,
   "metadata": {},
   "outputs": [
    {
     "data": {
      "text/plain": [
       "array([[0.01533047],\n",
       "       [0.01558878],\n",
       "       [0.01320823],\n",
       "       ...,\n",
       "       [0.84562699],\n",
       "       [0.88711566],\n",
       "       [0.85671997]])"
      ]
     },
     "execution_count": 42,
     "metadata": {},
     "output_type": "execute_result"
    }
   ],
   "source": [
    "data_training_array = scaler.fit_transform(data_training)\n",
    "# convert scaled down data into array\n",
    "data_training_array"
   ]
  },
  {
   "cell_type": "code",
   "execution_count": 44,
   "metadata": {},
   "outputs": [
    {
     "data": {
      "text/plain": [
       "(2420, 1)"
      ]
     },
     "execution_count": 44,
     "metadata": {},
     "output_type": "execute_result"
    }
   ],
   "source": [
    "data_training_array.shape"
   ]
  },
  {
   "cell_type": "code",
   "execution_count": 47,
   "metadata": {},
   "outputs": [],
   "source": [
    "# 34 36 33 40 39 38 37 42 44 38: 10 days (steps) of stock price data\n",
    "# value of 11th day is dependent on previous 10 values\n",
    "# time series analysis analogy : price on particular day is dependent on previoud few days\n",
    "# first 100 steps will be our x_train\n",
    "# and day after will be y_train (101th day)\n",
    "# say now want 102nd day (y_train) then remove first day from previous 100 and now add 101th day(sliding scale)\n",
    "\n",
    "x_train = []\n",
    "y_train = []\n",
    "\n",
    "for i in range(100, data_training_array.shape[0]):\n",
    "    x_train.append(data_training_array[i-100: i]) #starts from 0 to 100\n",
    "    y_train.append(data_training_array[i, 0]) #only one column\n",
    "\n",
    "# convert into numpy arrays\n",
    "x_train, y_train = np.array(x_train), np.array(y_train)\n"
   ]
  },
  {
   "cell_type": "code",
   "execution_count": 49,
   "metadata": {},
   "outputs": [],
   "source": [
    "# ML model\n",
    "from keras.layers import Dense, Dropout, LSTM\n",
    "from keras.models import Sequential"
   ]
  },
  {
   "cell_type": "code",
   "execution_count": 50,
   "metadata": {},
   "outputs": [],
   "source": [
    "# creates a sequential model, which is a linear stack of layers\n",
    "# LSTM-based model designed to learn patterns in time series data\n",
    "# Long Short-Term Memory networks (LSTM) are a type of recurrent neural network (RNN) architecture designed to handle sequences of data, such as time series\n",
    "# Due to presence of memory cells and gates, LSTMs are capable of learning long-term dependencies in data\n",
    "model = Sequential()\n",
    "#LSTM layer will have 50 memory units \n",
    "# x_train.shape[1] = 100 steps for our xtrain\n",
    "# ,1 = only looking at closing price\n",
    "# 4 layers of LSTM models\n",
    "# Dropout (after each LSTM layer) is a regularisation technique used to prevent overfitting. Here, 20% of the neurons will be randomly set to zero during each training step\n",
    "# new layers help the model learn more complex patterns in the data\n",
    "\n",
    "model.add(LSTM(units = 50, activation = 'relu', return_sequences = True,\n",
    "input_shape = (x_train.shape[1], 1)))\n",
    "model.add(Dropout(0.2))\n",
    "\n",
    "model.add(LSTM(units = 60, activation = 'relu', return_sequences = True))\n",
    "model.add(Dropout(0.3))\n",
    "\n",
    "model.add(LSTM(units = 80, activation = 'relu', return_sequences = True))\n",
    "model.add(Dropout(0.4))\n",
    "\n",
    "model.add(LSTM(units = 120, activation = 'relu'))\n",
    "model.add(Dropout(0.5))\n",
    "\n",
    "# only prediciting closing price so just 1 unit\n",
    "# Dense is used to connect the 4 layers\n",
    "model.add(Dense(units = 1)) "
   ]
  },
  {
   "cell_type": "code",
   "execution_count": 51,
   "metadata": {},
   "outputs": [
    {
     "name": "stdout",
     "output_type": "stream",
     "text": [
      "Model: \"sequential\"\n",
      "_________________________________________________________________\n",
      " Layer (type)                Output Shape              Param #   \n",
      "=================================================================\n",
      " lstm (LSTM)                 (None, 100, 50)           10400     \n",
      "                                                                 \n",
      " dropout (Dropout)           (None, 100, 50)           0         \n",
      "                                                                 \n",
      " lstm_1 (LSTM)               (None, 100, 60)           26640     \n",
      "                                                                 \n",
      " dropout_1 (Dropout)         (None, 100, 60)           0         \n",
      "                                                                 \n",
      " lstm_2 (LSTM)               (None, 100, 80)           45120     \n",
      "                                                                 \n",
      " dropout_2 (Dropout)         (None, 100, 80)           0         \n",
      "                                                                 \n",
      " lstm_3 (LSTM)               (None, 120)               96480     \n",
      "                                                                 \n",
      " dropout_3 (Dropout)         (None, 120)               0         \n",
      "                                                                 \n",
      " dense (Dense)               (None, 1)                 121       \n",
      "                                                                 \n",
      "=================================================================\n",
      "Total params: 178761 (698.29 KB)\n",
      "Trainable params: 178761 (698.29 KB)\n",
      "Non-trainable params: 0 (0.00 Byte)\n",
      "_________________________________________________________________\n"
     ]
    }
   ],
   "source": [
    "model.summary()"
   ]
  },
  {
   "cell_type": "code",
   "execution_count": 52,
   "metadata": {},
   "outputs": [
    {
     "name": "stdout",
     "output_type": "stream",
     "text": [
      "Epoch 1/50\n",
      "73/73 [==============================] - 10s 120ms/step - loss: 0.0344\n",
      "Epoch 2/50\n",
      "73/73 [==============================] - 9s 122ms/step - loss: 0.0077\n",
      "Epoch 3/50\n",
      "73/73 [==============================] - 9s 122ms/step - loss: 0.0063\n",
      "Epoch 4/50\n",
      "73/73 [==============================] - 9s 123ms/step - loss: 0.0069\n",
      "Epoch 5/50\n",
      "73/73 [==============================] - 9s 120ms/step - loss: 0.0057\n",
      "Epoch 6/50\n",
      "73/73 [==============================] - 9s 125ms/step - loss: 0.0052\n",
      "Epoch 7/50\n",
      "73/73 [==============================] - 9s 123ms/step - loss: 0.0053\n",
      "Epoch 8/50\n",
      "73/73 [==============================] - 9s 124ms/step - loss: 0.0046\n",
      "Epoch 9/50\n",
      "73/73 [==============================] - 9s 119ms/step - loss: 0.0040\n",
      "Epoch 10/50\n",
      "73/73 [==============================] - 9s 120ms/step - loss: 0.0042\n",
      "Epoch 11/50\n",
      "73/73 [==============================] - 9s 121ms/step - loss: 0.0043\n",
      "Epoch 12/50\n",
      "73/73 [==============================] - 9s 124ms/step - loss: 0.0040\n",
      "Epoch 13/50\n",
      "73/73 [==============================] - 9s 125ms/step - loss: 0.0040\n",
      "Epoch 14/50\n",
      "73/73 [==============================] - 9s 123ms/step - loss: 0.0035\n",
      "Epoch 15/50\n",
      "73/73 [==============================] - 9s 121ms/step - loss: 0.0036\n",
      "Epoch 16/50\n",
      "73/73 [==============================] - 9s 124ms/step - loss: 0.0034\n",
      "Epoch 17/50\n",
      "73/73 [==============================] - 9s 120ms/step - loss: 0.0035\n",
      "Epoch 18/50\n",
      "73/73 [==============================] - 9s 118ms/step - loss: 0.0033\n",
      "Epoch 19/50\n",
      "73/73 [==============================] - 9s 119ms/step - loss: 0.0033\n",
      "Epoch 20/50\n",
      "73/73 [==============================] - 9s 123ms/step - loss: 0.0032\n",
      "Epoch 21/50\n",
      "73/73 [==============================] - 9s 128ms/step - loss: 0.0029\n",
      "Epoch 22/50\n",
      "73/73 [==============================] - 9s 126ms/step - loss: 0.0029\n",
      "Epoch 23/50\n",
      "73/73 [==============================] - 9s 121ms/step - loss: 0.0027\n",
      "Epoch 24/50\n",
      "73/73 [==============================] - 9s 125ms/step - loss: 0.0025\n",
      "Epoch 25/50\n",
      "73/73 [==============================] - 9s 127ms/step - loss: 0.0025\n",
      "Epoch 26/50\n",
      "73/73 [==============================] - 9s 123ms/step - loss: 0.0023\n",
      "Epoch 27/50\n",
      "73/73 [==============================] - 9s 123ms/step - loss: 0.0023\n",
      "Epoch 28/50\n",
      "73/73 [==============================] - 9s 128ms/step - loss: 0.0025\n",
      "Epoch 29/50\n",
      "73/73 [==============================] - 9s 130ms/step - loss: 0.0024\n",
      "Epoch 30/50\n",
      "73/73 [==============================] - 9s 121ms/step - loss: 0.0022\n",
      "Epoch 31/50\n",
      "73/73 [==============================] - 9s 123ms/step - loss: 0.0022\n",
      "Epoch 32/50\n",
      "73/73 [==============================] - 9s 123ms/step - loss: 0.0023\n",
      "Epoch 33/50\n",
      "73/73 [==============================] - 9s 123ms/step - loss: 0.0024\n",
      "Epoch 34/50\n",
      "73/73 [==============================] - 9s 122ms/step - loss: 0.0020\n",
      "Epoch 35/50\n",
      "73/73 [==============================] - 9s 125ms/step - loss: 0.0022\n",
      "Epoch 36/50\n",
      "73/73 [==============================] - 9s 122ms/step - loss: 0.0023\n",
      "Epoch 37/50\n",
      "73/73 [==============================] - 9s 126ms/step - loss: 0.0020\n",
      "Epoch 38/50\n",
      "73/73 [==============================] - 9s 122ms/step - loss: 0.0019\n",
      "Epoch 39/50\n",
      "73/73 [==============================] - 9s 121ms/step - loss: 0.0021\n",
      "Epoch 40/50\n",
      "73/73 [==============================] - 9s 121ms/step - loss: 0.0021\n",
      "Epoch 41/50\n",
      "73/73 [==============================] - 9s 122ms/step - loss: 0.0047\n",
      "Epoch 42/50\n",
      "73/73 [==============================] - 9s 121ms/step - loss: 0.0025\n",
      "Epoch 43/50\n",
      "73/73 [==============================] - 9s 120ms/step - loss: 0.0024\n",
      "Epoch 44/50\n",
      "73/73 [==============================] - 9s 122ms/step - loss: 0.0023\n",
      "Epoch 45/50\n",
      "73/73 [==============================] - 9s 116ms/step - loss: 0.0022\n",
      "Epoch 46/50\n",
      "73/73 [==============================] - 8s 116ms/step - loss: 0.0020\n",
      "Epoch 47/50\n",
      "73/73 [==============================] - 9s 117ms/step - loss: 0.0025\n",
      "Epoch 48/50\n",
      "73/73 [==============================] - 9s 118ms/step - loss: 0.0023\n",
      "Epoch 49/50\n",
      "73/73 [==============================] - 9s 119ms/step - loss: 0.0021\n",
      "Epoch 50/50\n",
      "73/73 [==============================] - 9s 118ms/step - loss: 0.0019\n"
     ]
    },
    {
     "data": {
      "text/plain": [
       "<keras.src.callbacks.History at 0x149f39210>"
      ]
     },
     "execution_count": 52,
     "metadata": {},
     "output_type": "execute_result"
    }
   ],
   "source": [
    "# model.compile: This method configures the learning process of the model before it starts training.\n",
    "# optimizer is the algorithm used to update the weights of the neural network during training\n",
    "# MSE computes the mean of the squared differences between predicted and actual values\n",
    "model.compile(optimizer = 'adam', loss = 'mean_squared_error')\n",
    "# model.fit: This method trains the model on a given dataset\n",
    "#x_train: This is the input data for training\n",
    "#y_train: This is the target output for the training data\n",
    "\n",
    "# Mmodel will be trained for 50 epochs, meaning it will go through the entire dataset 50 times during training.\n",
    "model.fit(x_train, y_train, epochs = 50)"
   ]
  },
  {
   "cell_type": "code",
   "execution_count": 53,
   "metadata": {},
   "outputs": [
    {
     "name": "stderr",
     "output_type": "stream",
     "text": [
      "/Library/Frameworks/Python.framework/Versions/3.11/lib/python3.11/site-packages/keras/src/engine/training.py:3079: UserWarning: You are saving your model as an HDF5 file via `model.save()`. This file format is considered legacy. We recommend using instead the native Keras format, e.g. `model.save('my_model.keras')`.\n",
      "  saving_api.save_model(\n"
     ]
    }
   ],
   "source": [
    "model.save('keras_model.h5')"
   ]
  },
  {
   "cell_type": "code",
   "execution_count": 54,
   "metadata": {},
   "outputs": [
    {
     "data": {
      "text/html": [
       "<div>\n",
       "<style scoped>\n",
       "    .dataframe tbody tr th:only-of-type {\n",
       "        vertical-align: middle;\n",
       "    }\n",
       "\n",
       "    .dataframe tbody tr th {\n",
       "        vertical-align: top;\n",
       "    }\n",
       "\n",
       "    .dataframe thead th {\n",
       "        text-align: right;\n",
       "    }\n",
       "</style>\n",
       "<table border=\"1\" class=\"dataframe\">\n",
       "  <thead>\n",
       "    <tr style=\"text-align: right;\">\n",
       "      <th></th>\n",
       "      <th>Close</th>\n",
       "    </tr>\n",
       "  </thead>\n",
       "  <tbody>\n",
       "    <tr>\n",
       "      <th>2420</th>\n",
       "      <td>50.435001</td>\n",
       "    </tr>\n",
       "    <tr>\n",
       "      <th>2421</th>\n",
       "      <td>51.625000</td>\n",
       "    </tr>\n",
       "    <tr>\n",
       "      <th>2422</th>\n",
       "      <td>52.587502</td>\n",
       "    </tr>\n",
       "    <tr>\n",
       "      <th>2423</th>\n",
       "      <td>52.590000</td>\n",
       "    </tr>\n",
       "    <tr>\n",
       "      <th>2424</th>\n",
       "      <td>53.160000</td>\n",
       "    </tr>\n",
       "  </tbody>\n",
       "</table>\n",
       "</div>"
      ],
      "text/plain": [
       "          Close\n",
       "2420  50.435001\n",
       "2421  51.625000\n",
       "2422  52.587502\n",
       "2423  52.590000\n",
       "2424  53.160000"
      ]
     },
     "execution_count": 54,
     "metadata": {},
     "output_type": "execute_result"
    }
   ],
   "source": [
    "data_testing.head()"
   ]
  },
  {
   "cell_type": "code",
   "execution_count": 55,
   "metadata": {},
   "outputs": [],
   "source": [
    "# for predicting values for testing data, need prev 100 days\n",
    "# we need the last 100 pieces of data from data training for data testing\n",
    "past_100_days = data_training.tail(100)"
   ]
  },
  {
   "cell_type": "code",
   "execution_count": 58,
   "metadata": {},
   "outputs": [],
   "source": [
    "# for the past 100 days, the testing data is added\n",
    "final_df = pd.concat([past_100_days, data_testing], ignore_index=True)\n"
   ]
  },
  {
   "cell_type": "code",
   "execution_count": 59,
   "metadata": {},
   "outputs": [
    {
     "data": {
      "text/html": [
       "<div>\n",
       "<style scoped>\n",
       "    .dataframe tbody tr th:only-of-type {\n",
       "        vertical-align: middle;\n",
       "    }\n",
       "\n",
       "    .dataframe tbody tr th {\n",
       "        vertical-align: top;\n",
       "    }\n",
       "\n",
       "    .dataframe thead th {\n",
       "        text-align: right;\n",
       "    }\n",
       "</style>\n",
       "<table border=\"1\" class=\"dataframe\">\n",
       "  <thead>\n",
       "    <tr style=\"text-align: right;\">\n",
       "      <th></th>\n",
       "      <th>Close</th>\n",
       "    </tr>\n",
       "  </thead>\n",
       "  <tbody>\n",
       "    <tr>\n",
       "      <th>0</th>\n",
       "      <td>47.185001</td>\n",
       "    </tr>\n",
       "    <tr>\n",
       "      <th>1</th>\n",
       "      <td>46.697498</td>\n",
       "    </tr>\n",
       "    <tr>\n",
       "      <th>2</th>\n",
       "      <td>47.117500</td>\n",
       "    </tr>\n",
       "    <tr>\n",
       "      <th>3</th>\n",
       "      <td>47.180000</td>\n",
       "    </tr>\n",
       "    <tr>\n",
       "      <th>4</th>\n",
       "      <td>47.487499</td>\n",
       "    </tr>\n",
       "  </tbody>\n",
       "</table>\n",
       "</div>"
      ],
      "text/plain": [
       "       Close\n",
       "0  47.185001\n",
       "1  46.697498\n",
       "2  47.117500\n",
       "3  47.180000\n",
       "4  47.487499"
      ]
     },
     "execution_count": 59,
     "metadata": {},
     "output_type": "execute_result"
    }
   ],
   "source": [
    "final_df.head()"
   ]
  },
  {
   "cell_type": "code",
   "execution_count": 60,
   "metadata": {},
   "outputs": [
    {
     "data": {
      "text/plain": [
       "array([[0.02520817],\n",
       "       [0.02202447],\n",
       "       [0.02476734],\n",
       "       ...,\n",
       "       [0.84006537],\n",
       "       [0.83007344],\n",
       "       [0.83177146]])"
      ]
     },
     "execution_count": 60,
     "metadata": {},
     "output_type": "execute_result"
    }
   ],
   "source": [
    "input_data = scaler.fit_transform(final_df)\n",
    "input_data"
   ]
  },
  {
   "cell_type": "code",
   "execution_count": 62,
   "metadata": {},
   "outputs": [
    {
     "data": {
      "text/plain": [
       "(1138, 1)"
      ]
     },
     "execution_count": 62,
     "metadata": {},
     "output_type": "execute_result"
    }
   ],
   "source": [
    "input_data.shape"
   ]
  },
  {
   "cell_type": "code",
   "execution_count": 73,
   "metadata": {},
   "outputs": [],
   "source": [
    "x_test = []\n",
    "y_test = []\n",
    "# creating our xtest and ytest\n",
    "for i in range(100, input_data.shape[0]):\n",
    "    x_test.append(input_data[i-100 : i])\n",
    "    y_test.append(input_data[i, 0])"
   ]
  },
  {
   "cell_type": "code",
   "execution_count": 76,
   "metadata": {},
   "outputs": [
    {
     "name": "stdout",
     "output_type": "stream",
     "text": [
      "(1038, 100, 1)\n",
      "(1038,)\n"
     ]
    }
   ],
   "source": [
    "x_test = np.array(x_test)\n",
    "y_test = np.array(y_test)\n",
    "print(x_test.shape)\n",
    "print(y_test.shape)"
   ]
  },
  {
   "cell_type": "code",
   "execution_count": 77,
   "metadata": {},
   "outputs": [
    {
     "name": "stdout",
     "output_type": "stream",
     "text": [
      "33/33 [==============================] - 1s 29ms/step\n"
     ]
    }
   ],
   "source": [
    "# Making predictions\n",
    "y_predicted = model.predict(x_test)"
   ]
  },
  {
   "cell_type": "code",
   "execution_count": 78,
   "metadata": {},
   "outputs": [
    {
     "data": {
      "text/plain": [
       "(1038, 1)"
      ]
     },
     "execution_count": 78,
     "metadata": {},
     "output_type": "execute_result"
    }
   ],
   "source": [
    "y_predicted.shape"
   ]
  },
  {
   "cell_type": "code",
   "execution_count": 79,
   "metadata": {},
   "outputs": [
    {
     "data": {
      "text/plain": [
       "array([0.04643266, 0.05420408, 0.0604898 , ..., 0.84006537, 0.83007344,\n",
       "       0.83177146])"
      ]
     },
     "execution_count": 79,
     "metadata": {},
     "output_type": "execute_result"
    }
   ],
   "source": [
    "y_test"
   ]
  },
  {
   "cell_type": "code",
   "execution_count": 80,
   "metadata": {},
   "outputs": [
    {
     "data": {
      "text/plain": [
       "array([[0.07425812],\n",
       "       [0.07390323],\n",
       "       [0.07358715],\n",
       "       ...,\n",
       "       [0.85010755],\n",
       "       [0.8460479 ],\n",
       "       [0.8418199 ]], dtype=float32)"
      ]
     },
     "execution_count": 80,
     "metadata": {},
     "output_type": "execute_result"
    }
   ],
   "source": [
    "y_predicted"
   ]
  },
  {
   "cell_type": "code",
   "execution_count": 81,
   "metadata": {},
   "outputs": [
    {
     "data": {
      "text/plain": [
       "array([0.00653061])"
      ]
     },
     "execution_count": 81,
     "metadata": {},
     "output_type": "execute_result"
    }
   ],
   "source": [
    "# factor by which they were scaled down\n",
    "scaler.scale_"
   ]
  },
  {
   "cell_type": "code",
   "execution_count": 83,
   "metadata": {},
   "outputs": [],
   "source": [
    "scale_factor = 1/0.00653061\n",
    "y_predicted = y_predicted * scale_factor\n",
    "y_test = y_test * scale_factor"
   ]
  },
  {
   "cell_type": "code",
   "execution_count": 85,
   "metadata": {},
   "outputs": [
    {
     "data": {
      "image/png": "[encoded data removed]",
      "text/plain": [
       "<Figure size 1200x600 with 1 Axes>"
      ]
     },
     "metadata": {},
     "output_type": "display_data"
    }
   ],
   "source": [
    "plt.figure(figsize=(12,6))\n",
    "plt.plot(y_test, 'b', label = 'Originial Price')\n",
    "plt.plot(y_predicted, 'r', label = 'Predicted Price')\n",
    "plt.xlabel('Time')\n",
    "plt.ylabel('Price')\n",
    "plt.legend()\n",
    "plt.show()\n"
   ]
  },
  {
   "cell_type": "code",
   "execution_count": null,
   "metadata": {},
   "outputs": [],
   "source": []
  }
 ],
 "metadata": {
  "kernelspec": {
   "display_name": "Python 3",
   "language": "python",
   "name": "python3"
  },
  "language_info": {
   "codemirror_mode": {
    "name": "ipython",
    "version": 3
   },
   "file_extension": ".py",
   "mimetype": "text/x-python",
   "name": "python",
   "nbconvert_exporter": "python",
   "pygments_lexer": "ipython3",
   "version": "3.11.5"
  },
  "orig_nbformat": 4
 },
 "nbformat": 4,
 "nbformat_minor": 2
}
